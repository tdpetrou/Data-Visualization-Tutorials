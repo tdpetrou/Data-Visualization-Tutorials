{
 "cells": [
  {
   "cell_type": "markdown",
   "metadata": {},
   "source": [
    "# Dash Tutorial\n",
    "\n",
    "Open the [Dash User Guide][1]. Dash is a free and open source Python library for building interactive dashboards on the web. It is maintained by [Plotly][2], a company that also provides a [data visualization library][3] for the web with python\n",
    "\n",
    "### App Gallery\n",
    "\n",
    "Dash if very flexible and able to create a wide variety of applications. Browse through some of them in the [app gallery][4].\n",
    "\n",
    "\n",
    "[1]: https://dash.plot.ly/\n",
    "[2]: https://plot.ly/\n",
    "[3]: https://plot.ly/python/\n",
    "[4]: https://dash-gallery.plotly.host/Portal/"
   ]
  },
  {
   "cell_type": "markdown",
   "metadata": {},
   "source": [
    "## Quick Lesson on HTML\n",
    "\n",
    "[Good simple beginner lesson from W3 schools][1]\n",
    "\n",
    "* Hyper-text markup language\n",
    "* Describes structure of a web document\n",
    "* Relatively simple for basic web pages\n",
    "* A web browser renders the HTML\n",
    "\n",
    "### HTML Components\n",
    "\n",
    "* HTML Elements\n",
    "    * HTML is composed of elements - different elements for different data\n",
    "    * Headers, paragraphs, images, video, links, bold, italics, etc...\n",
    "    * All elements are marked by tags (angle brackets)\n",
    "    * Example - large header is &lt;h1&gt;Some Header&lt;/h1&gt;\n",
    "* HTML Attributes\n",
    "    * All HTML elements can have attributes\n",
    "    * provide additional information about an element\n",
    "    * always specified in the start tag\n",
    "    * usually come in name/value pairs like: name=\"value\" \n",
    "    * Example: &lt;img src=\"some_image.png\"&gt;\n",
    "* HTML Styling\n",
    "    * The style of the content\n",
    "    * Color, size, alignment, font, etc...\n",
    "\n",
    "   \n",
    "[1]: https://www.w3schools.com/html/default.asp"
   ]
  },
  {
   "cell_type": "markdown",
   "metadata": {},
   "source": [
    "## Dash HTML Components\n",
    "\n",
    "We won't be writing HTML explicitly. Instead, we'll use [dash HTML components][1], which will write the HTML for us.\n",
    "   \n",
    "* Common HTML components\n",
    "    * `Div` - logical division of content. Doesn't actually do anything by itself, but can have style added to it to alter its appearance\n",
    "    * `P` - paragraph of text. Use style to change appearance of text\n",
    "    * `H1`, `H2`, ... `H6` - Text headers from largest to smallest\n",
    "    * `A` - hyperlink. Set `href` attribute to URL\n",
    "    * `Img` - images - use `src` attribute to link underlying image\n",
    "    * `Ol` - ordered list\n",
    "    * `Ul` - unordered list\n",
    "    * `Button`\n",
    "    \n",
    "### Using Dash HTML Components\n",
    "\n",
    "* Import `dash_html_components` module and alias as **`html`**\n",
    "* All elements are capitalized\n",
    "* Attributes are the same\n",
    "* The `style` attribute is a dictionary\n",
    "* Properties in the style dictionary are **camelCased**\n",
    "* The class key is renamed as **className**\n",
    "\n",
    "[1]: https://dash.plot.ly/dash-html-components"
   ]
  },
  {
   "cell_type": "markdown",
   "metadata": {},
   "source": [
    "### Common html styles\n",
    "\n",
    "* textAlign - center, left, right\n",
    "* color - [html color list][1]\n",
    "* fontFamily - Arial, Times, Helvetica, Verdana, sans-serif, monospace\n",
    "* fontSize - given in pixels: `fontSize: \"30px\"\n",
    "\n",
    "[1]: https://www.w3schools.com/colors/colors_groups.asp"
   ]
  },
  {
   "cell_type": "markdown",
   "metadata": {},
   "source": [
    "## Getting started\n",
    "\n",
    "Import `dash`, `dash_html_components` (alias as `html`) and `dash_core_components` (alias as `dcc`). The dash core components contain the visualization and control components and will be discussed later. We will primarily going to use `html` and `dcc` to add components to our application. "
   ]
  },
  {
   "cell_type": "code",
   "execution_count": null,
   "metadata": {},
   "outputs": [],
   "source": [
    "import os\n",
    "import dash\n",
    "import dash_html_components as html\n",
    "import dash_core_components as dcc\n",
    "from dash.dependencies import Input, Output\n",
    "import dash_table\n",
    "\n",
    "import pandas as pd\n",
    "import plotly.express as px\n",
    "port = 9999"
   ]
  },
  {
   "cell_type": "markdown",
   "metadata": {},
   "source": [
    "Running `dash.Dash()` creates an 'empty' application. We assign the application to the variable name `app`. Uncomment and execute if you are running dash locally"
   ]
  },
  {
   "cell_type": "code",
   "execution_count": null,
   "metadata": {},
   "outputs": [],
   "source": [
    "app = dash.Dash()"
   ]
  },
  {
   "cell_type": "markdown",
   "metadata": {},
   "source": [
    "### Run if using Binder\n",
    "\n",
    "Uncomment and run this next cell if you are running the tutorial from Binder. If you are using a local instance of dash and jupyter, do NOT run the next cell"
   ]
  },
  {
   "cell_type": "code",
   "execution_count": null,
   "metadata": {},
   "outputs": [],
   "source": [
    "# base_prefix = '{}proxy/{}/'.format(os.environ['JUPYTERHUB_SERVICE_PREFIX'], port)\n",
    "# url = 'https://hub.gke.mybinder.org{}'.format(base_prefix)\n",
    "# app.config.update({'requests_pathname_prefix': base_prefix})\n",
    "# print(url)"
   ]
  },
  {
   "cell_type": "markdown",
   "metadata": {},
   "source": [
    "### Our first app\n",
    "\n",
    "Dash apps are composed of two separate parts - the **layout** and the **interactivity**. The layout holds the physical web components such as the headers, links, paragraphs, images, etc.. (those in the dash_html_components module) and the graphs and controls in the dash_core_components module.\n",
    "\n",
    "#### Create a title for our application\n",
    "\n",
    "Let's create a title for our application. Use the `H1` class from the `html` module."
   ]
  },
  {
   "cell_type": "code",
   "execution_count": null,
   "metadata": {},
   "outputs": [],
   "source": [
    "title = html.H1('Hello Dash')"
   ]
  },
  {
   "cell_type": "markdown",
   "metadata": {},
   "source": [
    "### Set `app.layout`\n",
    "\n",
    "To formally create the layout, we must set the `app.layout`"
   ]
  },
  {
   "cell_type": "code",
   "execution_count": null,
   "metadata": {},
   "outputs": [],
   "source": [
    "app.layout = title"
   ]
  },
  {
   "cell_type": "markdown",
   "metadata": {},
   "source": [
    "### Run the app in the browswer\n",
    "\n",
    "We can now run this app in the browser with the `run_server` method. Click on link to view app."
   ]
  },
  {
   "cell_type": "code",
   "execution_count": null,
   "metadata": {
    "scrolled": false
   },
   "outputs": [],
   "source": [
    "app.run_server(host='0.0.0.0', port=port)"
   ]
  },
  {
   "cell_type": "markdown",
   "metadata": {},
   "source": [
    "### Stop app - press ESC + i + i\n",
    "\n",
    "To stop the app, go back to the cell that calls the `run_server` method and press ESC once to go into command mode (cell will be highlighted in blue). Then press i twice which interrupts the Jupyter Notebook kernel and stops the application. If the `*` is no longer in the brackets to the left of the cell, then you have stopped the application."
   ]
  },
  {
   "cell_type": "markdown",
   "metadata": {},
   "source": [
    "### Add style to title\n",
    "\n",
    "The `style` attribute is a dictionary mapping the property to its value. You can control alignment, color, type of font, size, and many more things. We overwrite the `layout` without an intermediate variable and run the server again."
   ]
  },
  {
   "cell_type": "code",
   "execution_count": null,
   "metadata": {},
   "outputs": [],
   "source": [
    "app = dash.Dash()\n",
    "# app.config.update({'requests_pathname_prefix': base_prefix})\n",
    "\n",
    "app.layout = html.H1('Hello Dash', style={'textAlign': 'center', 'color': 'magenta', \n",
    "                                     'fontSize': 50, 'fontFamily': 'Arial'})\n",
    "app.run_server(host='0.0.0.0', port=port)"
   ]
  },
  {
   "cell_type": "markdown",
   "metadata": {},
   "source": [
    "### Add multiple HTML elements to a web page\n",
    "\n",
    "By default, HTML elements are added vertically to a web page. Normally, you can just add one element after the next, but with the Dash layout, you'll need to add them as a list within a `Div` element. Let's add our H1 header, a paragraph (`P`) and a hyperlink (`A`)."
   ]
  },
  {
   "cell_type": "code",
   "execution_count": null,
   "metadata": {},
   "outputs": [],
   "source": [
    "title = html.H1('Hello Dash', style={'textAlign': 'center', 'color': 'magenta', \n",
    "                                     'fontSize': 50, 'fontFamily': 'Arial'})\n",
    "p_1 = html.P('Dash: A web application framework for Python', style={'textAlign': 'center'})\n",
    "link_1 = html.A('Link to Dunder Data', href='https://dunderdata.com')\n",
    "\n",
    "div_1 = html.Div([title, p_1, link_1])"
   ]
  },
  {
   "cell_type": "markdown",
   "metadata": {},
   "source": [
    "Stop the app first. Overwrite the layout and restart the server."
   ]
  },
  {
   "cell_type": "code",
   "execution_count": null,
   "metadata": {
    "scrolled": true
   },
   "outputs": [],
   "source": [
    "app = dash.Dash()\n",
    "# app.config.update({'requests_pathname_prefix': base_prefix})\n",
    "\n",
    "app.layout = div_1\n",
    "app.run_server(host='0.0.0.0', port=port)"
   ]
  },
  {
   "cell_type": "markdown",
   "metadata": {},
   "source": [
    "### Make a list of important links"
   ]
  },
  {
   "cell_type": "code",
   "execution_count": null,
   "metadata": {},
   "outputs": [],
   "source": [
    "link_1 = html.Li(html.A('Dash User Guide', href='https://dash.plot.ly/'))\n",
    "link_2 = html.Li(html.A('HTML Components', href='https://dash.plot.ly/dash-html-components'))\n",
    "link_3 = html.Li(html.A('Dash Core Components', href='https://dash.plot.ly/dash-core-components'))\n",
    "link_4 = html.Li(html.A('Link to Dunder Data', href='https://dunderdata.com'))\n",
    "list_of_links = html.Ul([link_1, link_2, link_3, link_4])"
   ]
  },
  {
   "cell_type": "code",
   "execution_count": null,
   "metadata": {},
   "outputs": [],
   "source": [
    "title = html.H1('Hello Dash', style={'textAlign': 'center', 'color': 'magenta', \n",
    "                                     'fontSize': 50, 'fontFamily': 'Arial'})\n",
    "p_1 = html.P('Dash: A web application framework for Python', style={'textAlign': 'center'})\n",
    "p_2 = html.P('List of important links')\n",
    "layout = html.Div([title, p_1, p_2, list_of_links])\n",
    "\n",
    "app = dash.Dash()\n",
    "# app.config.update({'requests_pathname_prefix': base_prefix})\n",
    "\n",
    "app.layout = layout\n",
    "app.run_server(host='0.0.0.0', port=port)"
   ]
  },
  {
   "cell_type": "markdown",
   "metadata": {},
   "source": [
    "## Adding Dash Core Components\n",
    "\n",
    "Use [plotly express][1] to make our graphs\n",
    "\n",
    "[1]: https://plot.ly/python/plotly-express/"
   ]
  },
  {
   "cell_type": "code",
   "execution_count": null,
   "metadata": {},
   "outputs": [],
   "source": [
    "title = html.H1('Hello Dash', style={'textAlign': 'center', 'color': 'magenta', \n",
    "                                     'fontSize': 50, 'fontFamily': 'Arial'})\n",
    "p_1 = html.P('Dash: A web application framework for Python', style={'textAlign': 'center'})\n",
    "p_2 = html.P('List of important links')\n",
    "\n",
    "df = pd.read_csv('data/housing_sample.csv')\n",
    "table = dash_table.DataTable(id='table',\n",
    "                             columns=[{\"name\": i, \"id\": i} for i in df.columns],\n",
    "                             style_table={'maxHeight': '300px','overflowY': 'scroll', 'maxWidth':'800px',\n",
    "                                          'overflowX': 'scroll',},\n",
    "                             filter_action=\"native\",\n",
    "                             sort_action=\"native\",\n",
    "                             sort_mode=\"multi\",\n",
    "                             data=df.to_dict('records'))\n",
    "\n",
    "x_label = html.Label('Choose X-axis variable')\n",
    "x_dd = dcc.Dropdown(id='x-dropdown', options=[{'label': 'GrLivArea', 'value':'GrLivArea'}, \n",
    "                                              {'label': 'GarageArea', 'value': 'GarageArea'}, \n",
    "                                              {'label': 'LotFrontage', 'value':'LotFrontage'}, \n",
    "                                              {'label': 'OverallQual', 'value': 'OverallQual'}],\n",
    "                    value='GrLivArea', style={'width': '50%'})\n",
    "scatter = dcc.Graph(figure=px.scatter(df, x='GrLivArea', y='SalePrice', \n",
    "                                      hover_data=['YearBuilt'], color='Neighborhood'), style={'width':'100%'})\n",
    "\n",
    "div_scatter_choose = html.Div([x_label, x_dd, scatter], style={'width':'100%'})\n",
    "\n",
    "table_scatter = html.Div([table, div_scatter_choose], style={'display': 'flex','flexDirection': 'row'})\n",
    "\n",
    "layout = html.Div([title, p_1, p_2, list_of_links, table_scatter])\n",
    "app = dash.Dash()\n",
    "# app.config.update({'requests_pathname_prefix': base_prefix})\n",
    "\n",
    "app.layout = layout\n",
    "app.run_server(host='0.0.0.0', port=port)"
   ]
  },
  {
   "cell_type": "markdown",
   "metadata": {},
   "source": [
    "## Add Callbacks"
   ]
  },
  {
   "cell_type": "code",
   "execution_count": null,
   "metadata": {},
   "outputs": [],
   "source": [
    "title = html.H1('Hello Dash', style={'textAlign': 'center', 'color': 'magenta', \n",
    "                                     'fontSize': 50, 'fontFamily': 'Arial'})\n",
    "p_1 = html.P('Dash: A web application framework for Python', style={'textAlign': 'center'})\n",
    "p_2 = html.P('List of important links')\n",
    "\n",
    "df = pd.read_csv('data/housing_sample.csv')\n",
    "table = dash_table.DataTable(id='table',\n",
    "                             columns=[{\"name\": i, \"id\": i} for i in df.columns],\n",
    "                             style_table={'maxHeight': '300px','overflowY': 'scroll', 'maxWidth':'800px',\n",
    "                                          'overflowX': 'scroll',},\n",
    "                             filter_action=\"native\",\n",
    "                             sort_action=\"native\",\n",
    "                             sort_mode=\"multi\",\n",
    "                             data=df.to_dict('records'))\n",
    "\n",
    "x_label = html.Label('Choose X-axis variable')\n",
    "x_dd = dcc.Dropdown(id='x-dropdown', options=[{'label': 'GrLivArea', 'value':'GrLivArea'}, \n",
    "                                              {'label': 'GarageArea', 'value': 'GarageArea'}, \n",
    "                                              {'label': 'LotFrontage', 'value':'LotFrontage'}, \n",
    "                                              {'label': 'OverallQual', 'value': 'OverallQual'}],\n",
    "                    value='GrLivArea')\n",
    "\n",
    "scatter = dcc.Graph(id='price-scatter', figure=px.scatter(df, x='GrLivArea', y='SalePrice', \n",
    "                                      hover_data=['YearBuilt'], color='Neighborhood'), style={'width':'100%'})\n",
    "\n",
    "x_div = html.Div([x_label, x_dd], style={'width': '100%'})\n",
    "\n",
    "color_label = html.Label('Choose color grouping')\n",
    "color_dd = dcc.Dropdown(id='color-dropdown', options=[{'label': 'Neighborhood', 'value':'Neighborhood'}, \n",
    "                                                      {'label': 'Exterior1st', 'value': 'Exterior1st'},\n",
    "                                                      {'label': 'BedroomAbvGr', 'value': 'BedroomAbvGr'}, \n",
    "                                                      {'label': 'FullBath', 'value':'FullBath'}],\n",
    "                        value='Neighborhood')\n",
    "color_div = html.Div([color_label, color_dd], style={'width': '100%'})\n",
    "\n",
    "\n",
    "year_label = html.Label('Choose Year Range')\n",
    "year_slider = dcc.RangeSlider(id='year-range', marks={i: i for i in range(1870, 2030, 20)},\n",
    "                            min=1870, max=2010, value=[1870, 2010])  \n",
    "year_div = html.Div([year_label, year_slider], style={'width': '100%'})\n",
    "\n",
    "choices_div = html.Div([x_div, color_div, year_div], style={'display': 'flex', 'flexDirection': 'row',\n",
    "                                                            'width':'100%'})\n",
    "div_scatter_choose = html.Div([choices_div, scatter], style={'width':'100%'})\n",
    "\n",
    "table_scatter = html.Div([table, div_scatter_choose], style={'display': 'flex','flexDirection': 'row'})\n",
    "\n",
    "\n",
    "layout = html.Div([title, p_1, p_2, list_of_links, table_scatter])\n",
    "app = dash.Dash()\n",
    "# app.config.update({'requests_pathname_prefix': base_prefix})\n",
    "\n",
    "app.layout = layout\n",
    "\n",
    "# callbacks - must come after layout is defined\n",
    "\n",
    "@app.callback(\n",
    "    Output(component_id='price-scatter', component_property='figure'),\n",
    "    [Input(component_id='x-dropdown', component_property='value'),\n",
    "    Input(component_id='color-dropdown', component_property='value'),\n",
    "    Input(component_id='year-range', component_property='value')]\n",
    ")\n",
    "def update_output_div(x, color, year_range):\n",
    "    min_year, max_year = year_range\n",
    "    return px.scatter(df.query('@min_year <= YearBuilt <= @max_year'), x=x, y='SalePrice', \n",
    "                      hover_data=['YearBuilt'], color=color)\n",
    "\n",
    "app.run_server(host='0.0.0.0', port=port)"
   ]
  },
  {
   "cell_type": "code",
   "execution_count": null,
   "metadata": {},
   "outputs": [],
   "source": []
  }
 ],
 "metadata": {
  "kernelspec": {
   "display_name": "Python 3",
   "language": "python",
   "name": "python3"
  },
  "language_info": {
   "codemirror_mode": {
    "name": "ipython",
    "version": 3
   },
   "file_extension": ".py",
   "mimetype": "text/x-python",
   "name": "python",
   "nbconvert_exporter": "python",
   "pygments_lexer": "ipython3",
   "version": "3.7.6"
  }
 },
 "nbformat": 4,
 "nbformat_minor": 2
}
