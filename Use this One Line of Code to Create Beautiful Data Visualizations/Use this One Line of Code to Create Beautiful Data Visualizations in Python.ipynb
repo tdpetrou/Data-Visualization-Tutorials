{
 "cells": [
  {
   "cell_type": "markdown",
   "id": "a175d0ac",
   "metadata": {},
   "source": [
    "# Use this One Line of Code to Create Beautiful Data Visualizations in Python\n",
    "\n",
    "In this post, you'll learn the absolute quickest path to create beautiful data visualizations in Python. Specifically, we will be issuing a command from Seaborn, a popular library for creating static two-dimensional plots. We begin by reading in some data from Airbnb listings in Washington D.C."
   ]
  },
  {
   "cell_type": "code",
   "execution_count": null,
   "id": "bba2c043",
   "metadata": {},
   "outputs": [],
   "source": [
    "import pandas as pd\n",
    "df = pd.read_csv('../../data/airbnb.csv', \n",
    "                 usecols=['neighborhood', 'accommodates', 'price'])\n",
    "top5 = df['neighborhood'].value_counts().index[:5]\n",
    "df = df.query('neighborhood in @top5 and price '\n",
    "              '< 600 and accommodates < 4').reset_index(drop=True)\n",
    "df.head()"
   ]
  },
  {
   "cell_type": "markdown",
   "id": "6d7f8755",
   "metadata": {},
   "source": [
    "### Create the default box plot\n",
    "\n",
    "Here, we will use Seaborn to create a box plot of prices by neighborhood splitting by the number of persons the space accommodates."
   ]
  },
  {
   "cell_type": "code",
   "execution_count": null,
   "id": "08346692",
   "metadata": {},
   "outputs": [],
   "source": [
    "import seaborn as sns\n",
    "sns.boxplot(x='neighborhood', y='price', hue='accommodates', data=df);"
   ]
  },
  {
   "cell_type": "markdown",
   "id": "d11401e3",
   "metadata": {},
   "source": [
    "### The `set_theme` function\n",
    "\n",
    "While the default plot settings are not bad, they can be improved upon using a single command and that is with the `set_theme` function in Seaborn. By default, it will use the [darkgrid style][0] along with the [deep color palette][1].\n",
    "\n",
    "[0]: https://seaborn.pydata.org/tutorial/aesthetics.html#seaborn-figure-styles\n",
    "[1]: https://seaborn.pydata.org/tutorial/color_palettes.html#qualitative-color-palettes"
   ]
  },
  {
   "cell_type": "code",
   "execution_count": null,
   "id": "2ad14b04",
   "metadata": {},
   "outputs": [],
   "source": [
    "sns.set_theme()"
   ]
  },
  {
   "cell_type": "markdown",
   "id": "fe032b33",
   "metadata": {},
   "source": [
    "After running this command, the same plot will appear substantially different."
   ]
  },
  {
   "cell_type": "code",
   "execution_count": null,
   "id": "db8c204b",
   "metadata": {
    "scrolled": false
   },
   "outputs": [],
   "source": [
    "sns.boxplot(x='neighborhood', y='price', hue='accommodates', data=df);"
   ]
  },
  {
   "cell_type": "markdown",
   "id": "f5d76055",
   "metadata": {},
   "source": [
    "### Customizing matplotlib run configuration settings\n",
    "\n",
    "You may call the `set_theme` function without arguments, but I suggest increasing the DPI (dots per square inch) and reducing the font scale. The default DPI is 100 for matplotlib (the library Seaborn uses for all of its plotting), which is a lower resolution than most modern monitors and is the reason why the default image size (6.4 inches by 4.8 inches) does not match the actual screen inches on your monitor.\n",
    "\n",
    "Any plot settings (formally, the [matplotlib run configuration parameters][0]) are able to changed with the `rc` parameter. Here, the DPI is increased to 150 and the default figure size decreased.\n",
    "\n",
    "[0]: https://matplotlib.org/stable/tutorials/introductory/customizing.html#the-default-matplotlibrc-file"
   ]
  },
  {
   "cell_type": "code",
   "execution_count": null,
   "id": "932b7a3f",
   "metadata": {},
   "outputs": [],
   "source": [
    "sns.set_theme(rc={'figure.dpi': 150, 'figure.figsize': (5, 3.75)})\n",
    "sns.boxplot(x='neighborhood', y='price', hue='accommodates', data=df);"
   ]
  },
  {
   "cell_type": "markdown",
   "id": "de2bf037",
   "metadata": {},
   "source": [
    "### Scaling the font\n",
    "\n",
    "While the image is sharper and larger, the text is clearly too big. The `set_theme` function provides a `font_scale` parameter to decrease the relative size of the text in the image. Here we set it to 0.65."
   ]
  },
  {
   "cell_type": "code",
   "execution_count": null,
   "id": "5fc351fa",
   "metadata": {},
   "outputs": [],
   "source": [
    "sns.set_theme(rc={'figure.dpi': 150, 'figure.figsize': (5, 3.75)}, font_scale=0.65)\n",
    "sns.boxplot(x='neighborhood', y='price', hue='accommodates', data=df);"
   ]
  },
  {
   "cell_type": "markdown",
   "id": "654ae448",
   "metadata": {},
   "source": [
    "### Choosing other styles and color palettes\n",
    "\n",
    "There are several built-in styles (white, dark, whitegrid, darkgrid, ticks) as well as color palettes (deep, muted, bright, pastel, dark, colorblind) available as well. Here, we choose the whitegrid style paired with the pastel color palette."
   ]
  },
  {
   "cell_type": "code",
   "execution_count": null,
   "id": "72aa0a77",
   "metadata": {
    "scrolled": false
   },
   "outputs": [],
   "source": [
    "sns.set_theme(style='whitegrid', \n",
    "              palette='pastel', \n",
    "              rc={'figure.dpi': 150, 'figure.figsize': (5, 3.75)}, \n",
    "              font_scale=0.65)\n",
    "sns.boxplot(x='neighborhood', y='price', hue='accommodates', data=df);"
   ]
  },
  {
   "cell_type": "markdown",
   "id": "d57041be",
   "metadata": {},
   "source": [
    "### Summary\n",
    "\n",
    "In summary, use the `set_theme` function in Seaborn to easily choose a style, color palette, customize the matplotlib run configuration settings and to scale the font."
   ]
  },
  {
   "cell_type": "markdown",
   "id": "47a1cd42",
   "metadata": {},
   "source": [
    "## Master Python, Data Science and Machine Learning\n",
    "\n",
    "Immerse yourself in my comprehensive path for mastering data science and machine learning with Python. Purchase the [All Access Pass][0] to get lifetime access to all current and future courses. Some of the courses it contains:\n",
    "\n",
    "* [Master the Fundamentals of Python][1] — A comprehensive introduction to Python (300+ pages, 150+ exercises, 25 hours of video)\n",
    "* [Master Data Analysis with Python][2] — The most comprehensive course available to learn pandas. (800+ pages and 500+ exercises, 10 hours of video)\n",
    "* [Master Machine Learning with Python][3] — A deep dive into doing machine learning with scikit-learn constantly updated to showcase the latest and greatest tools. (300+ pages)\n",
    "\n",
    "[0]: https://www.dunderdata.com/all-access-pass\n",
    "[1]: https://www.dunderdata.com/master-the-fundamentals-of-python\n",
    "[2]: https://www.dunderdata.com/master-data-analysis-with-python\n",
    "[3]: https://www.dunderdata.com/master-machine-learning-with-python"
   ]
  }
 ],
 "metadata": {
  "kernelspec": {
   "display_name": "Python 3 (ipykernel)",
   "language": "python",
   "name": "python3"
  },
  "language_info": {
   "codemirror_mode": {
    "name": "ipython",
    "version": 3
   },
   "file_extension": ".py",
   "mimetype": "text/x-python",
   "name": "python",
   "nbconvert_exporter": "python",
   "pygments_lexer": "ipython3",
   "version": "3.8.11"
  }
 },
 "nbformat": 4,
 "nbformat_minor": 5
}
