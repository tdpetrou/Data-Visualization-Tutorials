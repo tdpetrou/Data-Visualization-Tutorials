{
 "cells": [
  {
   "cell_type": "markdown",
   "id": "39dacd88",
   "metadata": {},
   "source": [
    "# Why Matplotlib Figure Inches Don't Match Your Screen Inches and How to Fix it\n",
    "\n",
    "If you've worked with the matplotlib data visualization library before, then you'll be familiar with the term **figsize**, which is measured in **figure inches**. These default to 6.4 inches in width by 4.8 inches in height. But, if you actually measured the physical screen inches on your monitor, you're likely to get different numbers. This post details why this mismatch exists and how to change the settings of your plot so that the matplotlib figure inches match the physical screen inches exactly.\n",
    "\n",
    "### Create a plot\n",
    "\n",
    "We begin by reading in the diamonds dataset and create a scatter plot of carat vs price."
   ]
  },
  {
   "cell_type": "code",
   "execution_count": null,
   "id": "afb56160",
   "metadata": {},
   "outputs": [],
   "source": [
    "import pandas as pd\n",
    "diamonds = pd.read_csv('../../data/diamonds.csv')\n",
    "diamonds.head(3)"
   ]
  },
  {
   "cell_type": "markdown",
   "id": "74f3b845",
   "metadata": {},
   "source": [
    "Jupyter Notebooks automatically crop some of the figure so it tightly wraps around the outer elements. To show the entire figure we need to run the following command."
   ]
  },
  {
   "cell_type": "code",
   "execution_count": null,
   "id": "21c0d7b6",
   "metadata": {},
   "outputs": [],
   "source": [
    "%config InlineBackend.print_figure_kwargs = {'bbox_inches': None}"
   ]
  },
  {
   "cell_type": "markdown",
   "id": "157e278a",
   "metadata": {},
   "source": [
    "For clarity, the `figsize` is set to `(6.4, 4.8)`, though this is unnecessary as that is the default value."
   ]
  },
  {
   "cell_type": "code",
   "execution_count": null,
   "id": "fe5cf65e",
   "metadata": {},
   "outputs": [],
   "source": [
    "import matplotlib.pyplot as plt\n",
    "fig, ax = plt.subplots(figsize=(6.4, 4.8), facecolor='tan')\n",
    "ax.scatter(x='carat', y='price', data=diamonds, s=5)\n",
    "fig.suptitle('Diamond Carat vs Price');"
   ]
  },
  {
   "cell_type": "markdown",
   "id": "08653c5d",
   "metadata": {},
   "source": [
    "### Measuring the physical screen inches\n",
    "\n",
    "You can use a physical ruler or an application native to your machine to find the physical screen inches. I used an application called [Free Ruler](https://apps.apple.com/us/app/free-ruler/id1483172210?mt=12) on my Mac and captured the image below. The actual physical screen inches of the figure are about 5 x 3.75 or under 80% of the matplotlib figure size of 6.4 x 4.8.\n",
    "\n",
    "![0]\n",
    "\n",
    "[0]: mpl_first.png"
   ]
  },
  {
   "cell_type": "markdown",
   "id": "19a9c3e4",
   "metadata": {},
   "source": [
    "### DPI Mismatch\n",
    "\n",
    "The reason for this difference is a mismatch between the matplotlib figure DPI (dots per inch) and your screen's DPI. By default, Jupyter Notebooks set the DPI for matplotlib figures to 100, which we verify below."
   ]
  },
  {
   "cell_type": "code",
   "execution_count": null,
   "id": "0bff6c6e",
   "metadata": {},
   "outputs": [],
   "source": [
    "fig.dpi"
   ]
  },
  {
   "cell_type": "markdown",
   "id": "23277aab",
   "metadata": {},
   "source": [
    "Multiplying the DPI by the figure inches provides the dimensions of the figure in pixels. This makes our current figure 640 pixels by 480 pixels. Most modern monitors have a higher DPI than than 100, which is the reason the figures appear as less physical screen inches. For example, if your monitor has a DPI of 160, then the physical screen inches would be 4 inches by 3 inches (640 / 160 and 480 / 160)."
   ]
  },
  {
   "cell_type": "markdown",
   "id": "00379402",
   "metadata": {},
   "source": [
    "### Getting your screen's DPI\n",
    "\n",
    "Getting your screen's DPI is a little tricky. The settings for my Mac show the screen as 3456 by 2234 pixels and 16.125 inches in diagonal, but do not display the DPI itself. Also, the pixel dimensions can be scaled down below their stated values. I used [What is my Screen Resolution](http://whatismyscreenresolution.net/) to get my specific pixel dimensions, which are really 1728 by 1117.\n",
    "\n",
    "### Use function to get DPI\n",
    "\n",
    "We still do not have our DPI, but can use the Pythagorean theorem to calculate them. The following function accepts the width and height as pixels and diagonal in inches and returns the DPI."
   ]
  },
  {
   "cell_type": "code",
   "execution_count": null,
   "id": "f33224da",
   "metadata": {},
   "outputs": [],
   "source": [
    "def find_dpi(w, h, d):\n",
    "    \"\"\"\n",
    "    w : width in pixels\n",
    "    h : height in pixels\n",
    "    d : diagonal in inches\n",
    "    \"\"\"\n",
    "    w_inches = (d ** 2 / (1 + h ** 2 / w ** 2)) ** 0.5\n",
    "    return round(w / w_inches)\n",
    "\n",
    "find_dpi(1728, 1117, 16.125)"
   ]
  },
  {
   "cell_type": "markdown",
   "id": "968ea3ad",
   "metadata": {},
   "source": [
    "My monitor's DPI is 128. Let's divide the current pixel dimensions by this DPI to calculate physical screen inches and determine if it matches the measurement from Free Ruler above."
   ]
  },
  {
   "cell_type": "code",
   "execution_count": null,
   "id": "ae288b44",
   "metadata": {},
   "outputs": [],
   "source": [
    "640 / 128, 480 / 128"
   ]
  },
  {
   "cell_type": "markdown",
   "id": "93bc04a1",
   "metadata": {},
   "source": [
    "### Setting the figure DPI\n",
    "\n",
    "Set the DPI upon figure creation by setting the `dpi` parameter. "
   ]
  },
  {
   "cell_type": "code",
   "execution_count": null,
   "id": "e17defbf",
   "metadata": {
    "scrolled": false
   },
   "outputs": [],
   "source": [
    "fig, ax = plt.subplots(figsize=(6.4, 4.8), facecolor='tan', dpi=128)\n",
    "ax.scatter(x='carat', y='price', data=diamonds, s=5)\n",
    "fig.suptitle('Diamond Carat vs Price');"
   ]
  },
  {
   "cell_type": "markdown",
   "id": "9327ed5a",
   "metadata": {},
   "source": [
    "### Physical screen inches should now be the same as the matplotlib figure inches\n",
    "\n",
    "We verify with Free Ruler that the physical screen inches are the same as the matplotlib figure inches, 6.4 x 4.8.\n",
    "\n",
    "![0]\n",
    "\n",
    "[0]: mpl_second.png"
   ]
  },
  {
   "cell_type": "markdown",
   "id": "adce1092",
   "metadata": {},
   "source": [
    "## Use this DPI for all your figures\n",
    "\n",
    "Continue to set the `dpi` parameter to your monitor's DPI to have matplotlib figure inches match the physical screen inches. Note, that if you create a figure larger than viewable area in a notebook (30 x 15 for example), it will be scaled down to fit inside of a notebook cell and will not match the physical screen inches."
   ]
  },
  {
   "cell_type": "markdown",
   "id": "0a73d63f",
   "metadata": {},
   "source": [
    "### Master Data Analysis with Python\n",
    "\n",
    "If you enjoyed this tip, then check out my comprehensive book [Master Data Analysis with Python](https://www.dunderdata.com/master-data-analysis-with-python) that teaches you how to become an expert at using Python and Pandas to do data analysis."
   ]
  },
  {
   "cell_type": "code",
   "execution_count": null,
   "id": "ed475b50",
   "metadata": {
    "scrolled": true
   },
   "outputs": [],
   "source": [
    "fig, ax = plt.subplots(figsize=(6, 4), facecolor='tan', dpi=72)\n",
    "ax.scatter(x='carat', y='price', data=diamonds, s=5)\n",
    "ax.set_title('Old Defaults - 432 x 288 pixels');"
   ]
  },
  {
   "cell_type": "code",
   "execution_count": null,
   "id": "0137eb09",
   "metadata": {},
   "outputs": [],
   "source": [
    "fig, ax = plt.subplots(figsize=(6.4, 4.8), facecolor='tan', dpi=100)\n",
    "ax.scatter(x='carat', y='price', data=diamonds, s=5)\n",
    "ax.set_title('New Defaults - 640 x 480 pixels')"
   ]
  },
  {
   "cell_type": "markdown",
   "id": "67be0e5f",
   "metadata": {},
   "source": []
  },
  {
   "cell_type": "markdown",
   "id": "79c9a1a4",
   "metadata": {},
   "source": [
    "## Jupyter Notebook Challenge \n",
    "\n",
    "### Can you insert blank space into the notebook?"
   ]
  },
  {
   "cell_type": "code",
   "execution_count": 1,
   "id": "da0530f8",
   "metadata": {},
   "outputs": [
    {
     "data": {
      "text/plain": [
       "4"
      ]
     },
     "execution_count": 1,
     "metadata": {},
     "output_type": "execute_result"
    }
   ],
   "source": [
    "# some cell with code followed by lots of blank space and then more code\n",
    "2 + 2"
   ]
  },
  {
   "cell_type": "markdown",
   "id": "be4b707e",
   "metadata": {},
   "source": [
    " "
   ]
  },
  {
   "cell_type": "markdown",
   "id": "ab3e1544",
   "metadata": {},
   "source": [
    " "
   ]
  },
  {
   "cell_type": "markdown",
   "id": "b1cd0caf",
   "metadata": {},
   "source": [
    " "
   ]
  },
  {
   "cell_type": "markdown",
   "id": "1188938c",
   "metadata": {},
   "source": [
    " "
   ]
  },
  {
   "cell_type": "markdown",
   "id": "bc7ade5f",
   "metadata": {},
   "source": [
    " "
   ]
  },
  {
   "cell_type": "markdown",
   "id": "64251bbb",
   "metadata": {},
   "source": [
    " "
   ]
  },
  {
   "cell_type": "code",
   "execution_count": 2,
   "id": "1f5a3fe2",
   "metadata": {},
   "outputs": [
    {
     "data": {
      "text/plain": [
       "7"
      ]
     },
     "execution_count": 2,
     "metadata": {},
     "output_type": "execute_result"
    }
   ],
   "source": [
    "3 + 4"
   ]
  }
 ],
 "metadata": {
  "kernelspec": {
   "display_name": "Python 3 (ipykernel)",
   "language": "python",
   "name": "python3"
  },
  "language_info": {
   "codemirror_mode": {
    "name": "ipython",
    "version": 3
   },
   "file_extension": ".py",
   "mimetype": "text/x-python",
   "name": "python",
   "nbconvert_exporter": "python",
   "pygments_lexer": "ipython3",
   "version": "3.8.11"
  }
 },
 "nbformat": 4,
 "nbformat_minor": 5
}
